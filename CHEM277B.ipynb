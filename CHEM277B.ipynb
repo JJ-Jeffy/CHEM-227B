{
 "cells": [
  {
   "cell_type": "code",
   "execution_count": 17,
   "id": "b2a71d44",
   "metadata": {},
   "outputs": [
    {
     "name": "stdout",
     "output_type": "stream",
     "text": [
      "12.566370614359172\n"
     ]
    }
   ],
   "source": [
    "import numpy as np \n",
    "\n",
    "def area(radius):\n",
    "    return np.pi*radius*radius \n",
    "\n",
    "def summation(num):\n",
    "    add = 0 \n",
    "    for i in range(num):\n",
    "        add += i \n",
    "    add += num\n",
    "    return add \n",
    "\n",
    "\n",
    "radius = 2 \n",
    "print(area(radius))"
   ]
  },
  {
   "cell_type": "code",
   "execution_count": 18,
   "id": "8b5cc6f0",
   "metadata": {},
   "outputs": [
    {
     "name": "stdout",
     "output_type": "stream",
     "text": [
      "0\n",
      "1\n",
      "2\n",
      "3\n",
      "4\n",
      "5\n",
      "21\n"
     ]
    }
   ],
   "source": [
    "num = 6\n",
    "print(summation(num))"
   ]
  },
  {
   "cell_type": "code",
   "execution_count": null,
   "id": "e37a6e6f",
   "metadata": {},
   "outputs": [],
   "source": []
  }
 ],
 "metadata": {
  "kernelspec": {
   "display_name": "Python 3 (ipykernel)",
   "language": "python",
   "name": "python3"
  },
  "language_info": {
   "codemirror_mode": {
    "name": "ipython",
    "version": 3
   },
   "file_extension": ".py",
   "mimetype": "text/x-python",
   "name": "python",
   "nbconvert_exporter": "python",
   "pygments_lexer": "ipython3",
   "version": "3.9.12"
  }
 },
 "nbformat": 4,
 "nbformat_minor": 5
}
