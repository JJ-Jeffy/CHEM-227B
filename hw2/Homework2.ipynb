{
 "cells": [
  {
   "cell_type": "code",
   "execution_count": 1,
   "id": "27483d04",
   "metadata": {},
   "outputs": [],
   "source": [
    "import numpy as np\n",
    "import pandas as pd \n",
    "import matplotlib as plt \n",
    "from pylab import * \n",
    "from scipy.optimize import minimize \n",
    "from numpy import linalg as LA"
   ]
  },
  {
   "cell_type": "markdown",
   "id": "6c4c2396",
   "metadata": {},
   "source": [
    "## Question 1 \n",
    "#### Classical simulated annealing. We will use the Schwefel function for D=10 in order to find its global minimum using CSA 𝑓(𝑥1,𝑥2...𝑥𝐷)=418.9829xD−∑ 𝑥𝑖𝐷𝑖 (sin(√𝑥𝑖))  𝑥𝑖 ∈[−500,500] for 𝑖 =1,...,𝐷. In which we use the visitation function of a random displacement along each dimension 𝑥𝑖 =𝑥𝑖 +(2∗𝑈𝑅𝑁−1)×∆, with ∆=0.5 for 𝑖 =1,...,𝐷 "
   ]
  },
  {
   "cell_type": "markdown",
   "id": "65161c2a",
   "metadata": {},
   "source": [
    "##### a) Fill  in  the  blanks  in  the  provided  simulated  annealing  code.  Use  a  linear  (Tt+1=Tt-α)  cooling schedule with α=0.5, and initializing TSA=3000K, to perform CSA until the temperature reaches 30K and 10K,  and  record  the  function  values.  How  long  is  your  cooling  schedule?  Check  against  the  debugging outputs. Given the stochastic nature of CSA, it would be best to report at least 3 runs for each lower bound temperature. Do you find better solutions when cooling to the lower temperature"
   ]
  },
  {
   "cell_type": "code",
   "execution_count": 2,
   "id": "e42e7709",
   "metadata": {},
   "outputs": [],
   "source": [
    "def schwefel(x):\n",
    "    return 418.9829*len(x)-np.sum(x*np.sin(np.sqrt(np.abs(x))))"
   ]
  },
  {
   "cell_type": "code",
   "execution_count": 3,
   "id": "d318ac70",
   "metadata": {},
   "outputs": [],
   "source": [
    "def SA(solution,evaluation,delta,boundary,cooling_schedule):\n",
    "    \"\"\" Simulated Annealing for minimization\n",
    "    solution: np.array. Initial guess of solution\n",
    "    evaluation: func. Function to evaluate solution\n",
    "    delta: float. Magnitude of random displacement\n",
    "    boundary: array of int/float. [lowerbound,upperbound]\n",
    "    cooling_schedule: np.array. An array of tempretures for simulated annealing\n",
    "    \"\"\"\n",
    "    best_solution=solution.copy()\n",
    "    lowest_eval=evaluation(best_solution)\n",
    "    for idx,temp in enumerate(cooling_schedule):\n",
    "        if idx%500==0:\n",
    "            print(\"%d/%d   temp:%f\"%(idx,len(cooling_schedule),temp))\n",
    "        for n in range(len(solution)):\n",
    "            trial=solution.copy()\n",
    "            trial[n]+=delta*(2*np.random.random()-1)\n",
    "            if trial[n]>=boundary[0] and trial[n]<=boundary[1]:\n",
    "                #fill in acceptance criterion\n",
    "                if np.exp(-(evaluation(trial) - evaluation(solution))/temp) > np.random.random():\n",
    "                    solution=trial\n",
    "                    if evaluation(solution)<lowest_eval:\n",
    "                        #update solution here\n",
    "                        best_solution = solution.copy()\n",
    "                        lowest_eval = evaluation(solution)\n",
    "    return {\"solution\":best_solution,\"evaluation\":lowest_eval}"
   ]
  },
  {
   "cell_type": "code",
   "execution_count": 4,
   "id": "ff139d4a",
   "metadata": {},
   "outputs": [
    {
     "name": "stdout",
     "output_type": "stream",
     "text": [
      "The cooling schedule is 5980K for 10k\n",
      "0/5980   temp:3000.000000\n",
      "500/5980   temp:2750.000000\n",
      "1000/5980   temp:2500.000000\n",
      "1500/5980   temp:2250.000000\n",
      "2000/5980   temp:2000.000000\n",
      "2500/5980   temp:1750.000000\n",
      "3000/5980   temp:1500.000000\n",
      "3500/5980   temp:1250.000000\n",
      "4000/5980   temp:1000.000000\n",
      "4500/5980   temp:750.000000\n",
      "5000/5980   temp:500.000000\n",
      "5500/5980   temp:250.000000\n"
     ]
    },
    {
     "data": {
      "text/plain": [
       "{'solution': array([  5.90411307, -25.54680777,   0.56793527,  12.26785216,\n",
       "         -9.14411653,  -8.04900981,   3.80639623,   1.42132601,\n",
       "        -21.08357599,  44.24620024]),\n",
       " 'evaluation': 4127.608549066533}"
      ]
     },
     "execution_count": 4,
     "metadata": {},
     "output_type": "execute_result"
    }
   ],
   "source": [
    "starting_point = np.random.random(10)\n",
    "#linear cooling schedule with alpha = 0.5 and initial temperature 3000K \n",
    "cooling_schedule=np.arange(3000,10,-0.5)\n",
    "print(f\"The cooling schedule is {len(cooling_schedule)}K for 10k\")\n",
    "SA(starting_point, schwefel, 0.5, [-500,500], cooling_schedule)"
   ]
  },
  {
   "cell_type": "code",
   "execution_count": 5,
   "id": "764bcd3b",
   "metadata": {},
   "outputs": [
    {
     "name": "stdout",
     "output_type": "stream",
     "text": [
      "The cooling schedule is 5940K for 10k\n",
      "0/5940   temp:3000.000000\n",
      "500/5940   temp:2750.000000\n",
      "1000/5940   temp:2500.000000\n",
      "1500/5940   temp:2250.000000\n",
      "2000/5940   temp:2000.000000\n",
      "2500/5940   temp:1750.000000\n",
      "3000/5940   temp:1500.000000\n",
      "3500/5940   temp:1250.000000\n",
      "4000/5940   temp:1000.000000\n",
      "4500/5940   temp:750.000000\n",
      "5000/5940   temp:500.000000\n",
      "5500/5940   temp:250.000000\n"
     ]
    },
    {
     "data": {
      "text/plain": [
       "{'solution': array([ -2.88258241, -11.60695756, -16.58254039,  -9.84895801,\n",
       "         58.42597172,   4.77352061, -14.92930339,  20.76237321,\n",
       "        -16.477326  , -28.55815171]),\n",
       " 'evaluation': 4089.84517376819}"
      ]
     },
     "execution_count": 5,
     "metadata": {},
     "output_type": "execute_result"
    }
   ],
   "source": [
    "cooling_schedule=np.arange(3000,30,-0.5)\n",
    "print(f\"The cooling schedule is {len(cooling_schedule)}K for 10k\")\n",
    "SA(starting_point, schwefel, 0.5, [-500,500], cooling_schedule)"
   ]
  },
  {
   "cell_type": "markdown",
   "id": "25d68802",
   "metadata": {},
   "source": [
    "##### The cooling schedule was 5980K for 10K and 5940K for 30K. After running the both the temperatures three times, the following results were retrieved. \n",
    "\n",
    "##### 10K: [4175, 4150,4166] = average : 4163\n",
    "##### 30K: [4129, 4052,4156] = average : 4112 \n",
    "\n",
    "##### Both values are very comparable but from average, it seems that the lower temperature yields better evaluation. With additional studies, this might change. "
   ]
  },
  {
   "cell_type": "markdown",
   "id": "34d73908",
   "metadata": {},
   "source": [
    "##### b) Choose logarithmic cooling (Tk=TSA/(1+ TSA log(1+k)/3curr), where k is counter for number of cooling cycle) and curr is an adjustable parameter,  with two initial temperature TSA = 3000K and 6000K. Use curr = 1000 and k = 6000. Reconsider questions (a). Do these cooling schedules converge better than linear cooling? "
   ]
  },
  {
   "cell_type": "code",
   "execution_count": 6,
   "id": "80912dff",
   "metadata": {},
   "outputs": [],
   "source": [
    "def log_cooling_schedule(T, sigma, k):\n",
    "    cooling_schedule = []\n",
    "    for i in range(k):\n",
    "        cooling_schedule.append(T)\n",
    "        T = T/(1+(T*np.log(1+i)/(3*sigma)))\n",
    "    return cooling_schedule\n"
   ]
  },
  {
   "cell_type": "code",
   "execution_count": 7,
   "id": "be46f35b",
   "metadata": {},
   "outputs": [
    {
     "name": "stdout",
     "output_type": "stream",
     "text": [
      "0/6000   temp:3000.000000\n",
      "500/6000   temp:1.148400\n",
      "1000/6000   temp:0.507346\n",
      "1500/6000   temp:0.316609\n",
      "2000/6000   temp:0.227143\n",
      "2500/6000   temp:0.175789\n",
      "3000/6000   temp:0.142687\n",
      "3500/6000   temp:0.119675\n",
      "4000/6000   temp:0.102802\n",
      "4500/6000   temp:0.089930\n",
      "5000/6000   temp:0.079804\n",
      "5500/6000   temp:0.071642\n"
     ]
    },
    {
     "data": {
      "text/plain": [
       "{'solution': array([5.21180197, 5.14275281, 5.4751954 , 5.13067894, 5.22564972,\n",
       "        5.28070547, 5.40656927, 4.9916047 , 5.36095365, 5.18318906]),\n",
       " 'evaluation': 4150.413675489447}"
      ]
     },
     "execution_count": 7,
     "metadata": {},
     "output_type": "execute_result"
    }
   ],
   "source": [
    "SA(starting_point, schwefel, 0.5, [-500,500], log_cooling_schedule(3000, 1000, 6000))"
   ]
  },
  {
   "cell_type": "code",
   "execution_count": 8,
   "id": "e5aff2ae",
   "metadata": {},
   "outputs": [
    {
     "name": "stdout",
     "output_type": "stream",
     "text": [
      "0/6000   temp:6000.000000\n",
      "500/6000   temp:1.148620\n",
      "1000/6000   temp:0.507389\n",
      "1500/6000   temp:0.316626\n",
      "2000/6000   temp:0.227152\n",
      "2500/6000   temp:0.175794\n",
      "3000/6000   temp:0.142691\n",
      "3500/6000   temp:0.119678\n",
      "4000/6000   temp:0.102804\n",
      "4500/6000   temp:0.089931\n",
      "5000/6000   temp:0.079805\n",
      "5500/6000   temp:0.071643\n"
     ]
    },
    {
     "data": {
      "text/plain": [
       "{'solution': array([  5.02093758,   5.09374272,   5.25032511,   5.13618632,\n",
       "          5.10995788,   5.33097204, -25.88623327,   5.24352447,\n",
       "          5.05312114,   5.24710628]),\n",
       " 'evaluation': 4130.266482585556}"
      ]
     },
     "execution_count": 8,
     "metadata": {},
     "output_type": "execute_result"
    }
   ],
   "source": [
    "SA(starting_point, schwefel, 0.5, [-500,500], log_cooling_schedule(6000, 1000, 6000))"
   ]
  },
  {
   "cell_type": "markdown",
   "id": "cfa34af4",
   "metadata": {},
   "source": [
    "##### The following averages were calcualted for both the starting temperatures and their evaluations \n",
    "\n",
    "##### 3000K = [4110, 4130, 4110] = 4116 \n",
    "##### 6000K = [4110, 4130, 4089] = 4109 \n",
    "\n",
    "##### The results for logarithmic calculations seemed to be doing better overall when compared to linear cooling."
   ]
  },
  {
   "cell_type": "markdown",
   "id": "f0bb4bab",
   "metadata": {},
   "source": [
    "##### c) Create  your  own  annealing  schedule  (cooling  and  heating  cycles)  to  see  if  you  can  find  better solutions. Use a local optimization technique on your CSA answer, can you find even better solution? "
   ]
  },
  {
   "cell_type": "code",
   "execution_count": 9,
   "id": "0c08b755",
   "metadata": {},
   "outputs": [
    {
     "data": {
      "text/plain": [
       "[<matplotlib.lines.Line2D at 0x7f3db39137c0>]"
      ]
     },
     "execution_count": 9,
     "metadata": {},
     "output_type": "execute_result"
    },
    {
     "data": {
      "image/png": "[encoded data removed]",
      "text/plain": [
       "<Figure size 640x480 with 1 Axes>"
      ]
     },
     "metadata": {},
     "output_type": "display_data"
    }
   ],
   "source": [
    "schedule=np.append(cooling_schedule,np.linspace(cooling_schedule[-1],100,200))\n",
    "schedule=np.append(schedule,np.linspace(schedule[-1],1000,2000))\n",
    "schedule=np.append(schedule,np.linspace(schedule[-1],500,100))\n",
    "schedule=np.append(schedule,np.linspace(schedule[-1],5000,3000))\n",
    "schedule=np.append(schedule,np.linspace(schedule[-1],400,100))\n",
    "schedule=np.append(schedule,np.linspace(schedule[-1],4000,3000))\n",
    "schedule=np.append(schedule,np.linspace(schedule[-1],900,100))\n",
    "schedule=np.append(schedule,np.linspace(schedule[-1],9000,2000))\n",
    "plt.figure()\n",
    "plt.plot(schedule)"
   ]
  },
  {
   "cell_type": "code",
   "execution_count": 10,
   "id": "bd999b57",
   "metadata": {},
   "outputs": [
    {
     "name": "stdout",
     "output_type": "stream",
     "text": [
      "Optimization terminated successfully.\n",
      "         Current function value: 4150.375984\n",
      "         Iterations: 7\n",
      "         Function evaluations: 209\n",
      "         Gradient evaluations: 19\n"
     ]
    }
   ],
   "source": [
    "#CG methods \n",
    "res = minimize(schwefel, starting_point , method='CG', options={'disp':True, 'gtol':1e-5})"
   ]
  },
  {
   "cell_type": "markdown",
   "id": "b8522c58",
   "metadata": {},
   "source": [
    "##### The solution is not better than the original solution. Additional analysis of the scenario may lead to better results. "
   ]
  },
  {
   "cell_type": "markdown",
   "id": "52ead215",
   "metadata": {},
   "source": [
    "## Question 2 \n",
    "\n",
    "### Clustering is a widely used technique in exploratory data analysis that we will examine later using unsupervised learning for classification of objects into groups. But for now we will consider a popular meta-heuristic for solving it using CSA. In this case we would like to cluster N data points into K clusters by solving the minimization of the following cost function:  𝐽(𝑁,𝐾)=∑∑𝑤𝑖𝑗𝑑𝑖𝑗2𝐾𝑗=1𝑁𝑖=1    𝑤𝑖𝑗 ={1  𝑖𝑓 𝑝𝑜𝑖𝑛𝑡 𝑖 𝑖𝑠 𝑎𝑠𝑠𝑖𝑔𝑛𝑒𝑑 𝑡𝑜 𝑐𝑙𝑢𝑠𝑡𝑒𝑟 𝑗0 𝑜𝑡ℎ𝑒𝑟𝑤𝑖𝑠𝑒, 1≤𝑖 ≤𝑁    𝑎𝑛𝑑    1≤𝑗 ≤𝐾  where 𝑑𝑖𝑗 is the Euclidean distance between point 𝑖 and the center of cluster 𝑗, and condition on 𝑤𝑖𝑗 ensures that a point is defined to be in one of the distinct clusters 𝐾.  "
   ]
  },
  {
   "cell_type": "code",
   "execution_count": 11,
   "id": "a4b671f8",
   "metadata": {},
   "outputs": [
    {
     "data": {
      "text/html": [
       "<div>\n",
       "<style scoped>\n",
       "    .dataframe tbody tr th:only-of-type {\n",
       "        vertical-align: middle;\n",
       "    }\n",
       "\n",
       "    .dataframe tbody tr th {\n",
       "        vertical-align: top;\n",
       "    }\n",
       "\n",
       "    .dataframe thead th {\n",
       "        text-align: right;\n",
       "    }\n",
       "</style>\n",
       "<table border=\"1\" class=\"dataframe\">\n",
       "  <thead>\n",
       "    <tr style=\"text-align: right;\">\n",
       "      <th></th>\n",
       "      <th>Alcohol %</th>\n",
       "      <th>Malic Acid</th>\n",
       "      <th>Ash</th>\n",
       "      <th>Alkalinity</th>\n",
       "      <th>Mg</th>\n",
       "      <th>Phenols</th>\n",
       "      <th>Flavanoids</th>\n",
       "      <th>Phenols.1</th>\n",
       "      <th>Proantho-cyanins</th>\n",
       "      <th>Color intensity</th>\n",
       "      <th>Hue</th>\n",
       "      <th>OD280 315</th>\n",
       "      <th>Proline</th>\n",
       "      <th>Start assignment</th>\n",
       "    </tr>\n",
       "  </thead>\n",
       "  <tbody>\n",
       "    <tr>\n",
       "      <th>173</th>\n",
       "      <td>13.40</td>\n",
       "      <td>4.60</td>\n",
       "      <td>2.86</td>\n",
       "      <td>25.0</td>\n",
       "      <td>112</td>\n",
       "      <td>1.98</td>\n",
       "      <td>0.96</td>\n",
       "      <td>0.27</td>\n",
       "      <td>1.11</td>\n",
       "      <td>8.5</td>\n",
       "      <td>0.67</td>\n",
       "      <td>1.92</td>\n",
       "      <td>630</td>\n",
       "      <td>3</td>\n",
       "    </tr>\n",
       "    <tr>\n",
       "      <th>174</th>\n",
       "      <td>13.27</td>\n",
       "      <td>4.28</td>\n",
       "      <td>2.26</td>\n",
       "      <td>20.0</td>\n",
       "      <td>120</td>\n",
       "      <td>1.59</td>\n",
       "      <td>0.69</td>\n",
       "      <td>0.43</td>\n",
       "      <td>1.35</td>\n",
       "      <td>10.2</td>\n",
       "      <td>0.59</td>\n",
       "      <td>1.56</td>\n",
       "      <td>835</td>\n",
       "      <td>3</td>\n",
       "    </tr>\n",
       "    <tr>\n",
       "      <th>175</th>\n",
       "      <td>13.17</td>\n",
       "      <td>2.59</td>\n",
       "      <td>2.37</td>\n",
       "      <td>20.0</td>\n",
       "      <td>120</td>\n",
       "      <td>1.65</td>\n",
       "      <td>0.68</td>\n",
       "      <td>0.53</td>\n",
       "      <td>1.46</td>\n",
       "      <td>9.3</td>\n",
       "      <td>0.60</td>\n",
       "      <td>1.62</td>\n",
       "      <td>840</td>\n",
       "      <td>3</td>\n",
       "    </tr>\n",
       "    <tr>\n",
       "      <th>176</th>\n",
       "      <td>14.13</td>\n",
       "      <td>4.10</td>\n",
       "      <td>2.74</td>\n",
       "      <td>24.5</td>\n",
       "      <td>96</td>\n",
       "      <td>2.05</td>\n",
       "      <td>0.76</td>\n",
       "      <td>0.56</td>\n",
       "      <td>1.35</td>\n",
       "      <td>9.2</td>\n",
       "      <td>0.61</td>\n",
       "      <td>1.60</td>\n",
       "      <td>560</td>\n",
       "      <td>3</td>\n",
       "    </tr>\n",
       "    <tr>\n",
       "      <th>177</th>\n",
       "      <td>12.25</td>\n",
       "      <td>1.73</td>\n",
       "      <td>2.12</td>\n",
       "      <td>19.0</td>\n",
       "      <td>80</td>\n",
       "      <td>1.65</td>\n",
       "      <td>2.03</td>\n",
       "      <td>0.37</td>\n",
       "      <td>1.63</td>\n",
       "      <td>3.4</td>\n",
       "      <td>1.00</td>\n",
       "      <td>3.17</td>\n",
       "      <td>510</td>\n",
       "      <td>3</td>\n",
       "    </tr>\n",
       "  </tbody>\n",
       "</table>\n",
       "</div>"
      ],
      "text/plain": [
       "     Alcohol %  Malic Acid   Ash  Alkalinity   Mg  Phenols  Flavanoids  \\\n",
       "173      13.40        4.60  2.86        25.0  112     1.98        0.96   \n",
       "174      13.27        4.28  2.26        20.0  120     1.59        0.69   \n",
       "175      13.17        2.59  2.37        20.0  120     1.65        0.68   \n",
       "176      14.13        4.10  2.74        24.5   96     2.05        0.76   \n",
       "177      12.25        1.73  2.12        19.0   80     1.65        2.03   \n",
       "\n",
       "     Phenols.1  Proantho-cyanins  Color intensity   Hue  OD280 315  Proline  \\\n",
       "173       0.27              1.11              8.5  0.67       1.92      630   \n",
       "174       0.43              1.35             10.2  0.59       1.56      835   \n",
       "175       0.53              1.46              9.3  0.60       1.62      840   \n",
       "176       0.56              1.35              9.2  0.61       1.60      560   \n",
       "177       0.37              1.63              3.4  1.00       3.17      510   \n",
       "\n",
       "     Start assignment  \n",
       "173                 3  \n",
       "174                 3  \n",
       "175                 3  \n",
       "176                 3  \n",
       "177                 3  "
      ]
     },
     "execution_count": 11,
     "metadata": {},
     "output_type": "execute_result"
    }
   ],
   "source": [
    "df = pd.read_csv('wines.csv')\n",
    "rank = df['ranking'].tolist()\n",
    "df.drop('ranking', axis=1, inplace=True)\n",
    "df.tail()"
   ]
  },
  {
   "cell_type": "markdown",
   "id": "b1c2e358",
   "metadata": {},
   "source": [
    "##### a) Normalize your chemical descriptor data for each attribute by subtracting off the mean and dividing by the standard deviation."
   ]
  },
  {
   "cell_type": "code",
   "execution_count": 12,
   "id": "a675fdea",
   "metadata": {},
   "outputs": [
    {
     "data": {
      "text/html": [
       "<div>\n",
       "<style scoped>\n",
       "    .dataframe tbody tr th:only-of-type {\n",
       "        vertical-align: middle;\n",
       "    }\n",
       "\n",
       "    .dataframe tbody tr th {\n",
       "        vertical-align: top;\n",
       "    }\n",
       "\n",
       "    .dataframe thead th {\n",
       "        text-align: right;\n",
       "    }\n",
       "</style>\n",
       "<table border=\"1\" class=\"dataframe\">\n",
       "  <thead>\n",
       "    <tr style=\"text-align: right;\">\n",
       "      <th></th>\n",
       "      <th>Alcohol %</th>\n",
       "      <th>Malic Acid</th>\n",
       "      <th>Ash</th>\n",
       "      <th>Alkalinity</th>\n",
       "      <th>Mg</th>\n",
       "      <th>Phenols</th>\n",
       "      <th>Flavanoids</th>\n",
       "      <th>Phenols.1</th>\n",
       "      <th>Proantho-cyanins</th>\n",
       "      <th>Color intensity</th>\n",
       "      <th>Hue</th>\n",
       "      <th>OD280 315</th>\n",
       "      <th>Proline</th>\n",
       "      <th>Start assignment</th>\n",
       "    </tr>\n",
       "  </thead>\n",
       "  <tbody>\n",
       "    <tr>\n",
       "      <th>0</th>\n",
       "      <td>1.514341</td>\n",
       "      <td>-0.560668</td>\n",
       "      <td>0.231400</td>\n",
       "      <td>-1.166303</td>\n",
       "      <td>1.908522</td>\n",
       "      <td>0.806722</td>\n",
       "      <td>1.031908</td>\n",
       "      <td>-0.657708</td>\n",
       "      <td>1.221438</td>\n",
       "      <td>0.251009</td>\n",
       "      <td>0.361158</td>\n",
       "      <td>1.842721</td>\n",
       "      <td>1.010159</td>\n",
       "      <td>-1.240406</td>\n",
       "    </tr>\n",
       "    <tr>\n",
       "      <th>1</th>\n",
       "      <td>0.294868</td>\n",
       "      <td>0.227053</td>\n",
       "      <td>1.835226</td>\n",
       "      <td>0.450674</td>\n",
       "      <td>1.278379</td>\n",
       "      <td>0.806722</td>\n",
       "      <td>0.661485</td>\n",
       "      <td>0.226158</td>\n",
       "      <td>0.400275</td>\n",
       "      <td>-0.318377</td>\n",
       "      <td>0.361158</td>\n",
       "      <td>0.448336</td>\n",
       "      <td>-0.037767</td>\n",
       "      <td>-1.240406</td>\n",
       "    </tr>\n",
       "    <tr>\n",
       "      <th>2</th>\n",
       "      <td>2.253415</td>\n",
       "      <td>-0.623328</td>\n",
       "      <td>-0.716315</td>\n",
       "      <td>-1.645408</td>\n",
       "      <td>-0.191954</td>\n",
       "      <td>0.806722</td>\n",
       "      <td>0.951817</td>\n",
       "      <td>-0.577356</td>\n",
       "      <td>0.679820</td>\n",
       "      <td>0.061213</td>\n",
       "      <td>0.536158</td>\n",
       "      <td>0.335659</td>\n",
       "      <td>0.946649</td>\n",
       "      <td>-1.240406</td>\n",
       "    </tr>\n",
       "    <tr>\n",
       "      <th>3</th>\n",
       "      <td>1.378844</td>\n",
       "      <td>-0.766550</td>\n",
       "      <td>-0.169557</td>\n",
       "      <td>-0.806975</td>\n",
       "      <td>-0.331985</td>\n",
       "      <td>-0.151973</td>\n",
       "      <td>0.401188</td>\n",
       "      <td>-0.818411</td>\n",
       "      <td>-0.036514</td>\n",
       "      <td>-0.025057</td>\n",
       "      <td>0.929908</td>\n",
       "      <td>0.293405</td>\n",
       "      <td>1.692900</td>\n",
       "      <td>-1.240406</td>\n",
       "    </tr>\n",
       "    <tr>\n",
       "      <th>4</th>\n",
       "      <td>0.923081</td>\n",
       "      <td>-0.542765</td>\n",
       "      <td>0.158499</td>\n",
       "      <td>-1.046527</td>\n",
       "      <td>-0.752080</td>\n",
       "      <td>0.487157</td>\n",
       "      <td>0.731565</td>\n",
       "      <td>-0.577356</td>\n",
       "      <td>0.382804</td>\n",
       "      <td>0.233755</td>\n",
       "      <td>0.842408</td>\n",
       "      <td>0.406082</td>\n",
       "      <td>1.819921</td>\n",
       "      <td>-1.240406</td>\n",
       "    </tr>\n",
       "    <tr>\n",
       "      <th>...</th>\n",
       "      <td>...</td>\n",
       "      <td>...</td>\n",
       "      <td>...</td>\n",
       "      <td>...</td>\n",
       "      <td>...</td>\n",
       "      <td>...</td>\n",
       "      <td>...</td>\n",
       "      <td>...</td>\n",
       "      <td>...</td>\n",
       "      <td>...</td>\n",
       "      <td>...</td>\n",
       "      <td>...</td>\n",
       "      <td>...</td>\n",
       "      <td>...</td>\n",
       "    </tr>\n",
       "    <tr>\n",
       "      <th>173</th>\n",
       "      <td>0.491955</td>\n",
       "      <td>2.026281</td>\n",
       "      <td>1.798775</td>\n",
       "      <td>1.648436</td>\n",
       "      <td>0.858284</td>\n",
       "      <td>-0.503494</td>\n",
       "      <td>-1.070491</td>\n",
       "      <td>-0.738059</td>\n",
       "      <td>-0.840205</td>\n",
       "      <td>1.484679</td>\n",
       "      <td>-1.257591</td>\n",
       "      <td>-0.974218</td>\n",
       "      <td>-0.371199</td>\n",
       "      <td>1.199288</td>\n",
       "    </tr>\n",
       "    <tr>\n",
       "      <th>174</th>\n",
       "      <td>0.331822</td>\n",
       "      <td>1.739837</td>\n",
       "      <td>-0.388260</td>\n",
       "      <td>0.151234</td>\n",
       "      <td>1.418411</td>\n",
       "      <td>-1.126646</td>\n",
       "      <td>-1.340800</td>\n",
       "      <td>0.547563</td>\n",
       "      <td>-0.420888</td>\n",
       "      <td>2.217979</td>\n",
       "      <td>-1.607590</td>\n",
       "      <td>-1.481267</td>\n",
       "      <td>0.279786</td>\n",
       "      <td>1.199288</td>\n",
       "    </tr>\n",
       "    <tr>\n",
       "      <th>175</th>\n",
       "      <td>0.208643</td>\n",
       "      <td>0.227053</td>\n",
       "      <td>0.012696</td>\n",
       "      <td>0.151234</td>\n",
       "      <td>1.418411</td>\n",
       "      <td>-1.030776</td>\n",
       "      <td>-1.350811</td>\n",
       "      <td>1.351077</td>\n",
       "      <td>-0.228701</td>\n",
       "      <td>1.829761</td>\n",
       "      <td>-1.563840</td>\n",
       "      <td>-1.396759</td>\n",
       "      <td>0.295664</td>\n",
       "      <td>1.199288</td>\n",
       "    </tr>\n",
       "    <tr>\n",
       "      <th>176</th>\n",
       "      <td>1.391162</td>\n",
       "      <td>1.578712</td>\n",
       "      <td>1.361368</td>\n",
       "      <td>1.498716</td>\n",
       "      <td>-0.261969</td>\n",
       "      <td>-0.391646</td>\n",
       "      <td>-1.270720</td>\n",
       "      <td>1.592131</td>\n",
       "      <td>-0.420888</td>\n",
       "      <td>1.786626</td>\n",
       "      <td>-1.520090</td>\n",
       "      <td>-1.424928</td>\n",
       "      <td>-0.593486</td>\n",
       "      <td>1.199288</td>\n",
       "    </tr>\n",
       "    <tr>\n",
       "      <th>177</th>\n",
       "      <td>-0.924604</td>\n",
       "      <td>-0.542765</td>\n",
       "      <td>-0.898568</td>\n",
       "      <td>-0.148206</td>\n",
       "      <td>-1.382223</td>\n",
       "      <td>-1.030776</td>\n",
       "      <td>0.000731</td>\n",
       "      <td>0.065455</td>\n",
       "      <td>0.068316</td>\n",
       "      <td>-0.715222</td>\n",
       "      <td>0.186159</td>\n",
       "      <td>0.786369</td>\n",
       "      <td>-0.752263</td>\n",
       "      <td>1.199288</td>\n",
       "    </tr>\n",
       "  </tbody>\n",
       "</table>\n",
       "<p>178 rows × 14 columns</p>\n",
       "</div>"
      ],
      "text/plain": [
       "     Alcohol %  Malic Acid       Ash  Alkalinity        Mg   Phenols  \\\n",
       "0     1.514341   -0.560668  0.231400   -1.166303  1.908522  0.806722   \n",
       "1     0.294868    0.227053  1.835226    0.450674  1.278379  0.806722   \n",
       "2     2.253415   -0.623328 -0.716315   -1.645408 -0.191954  0.806722   \n",
       "3     1.378844   -0.766550 -0.169557   -0.806975 -0.331985 -0.151973   \n",
       "4     0.923081   -0.542765  0.158499   -1.046527 -0.752080  0.487157   \n",
       "..         ...         ...       ...         ...       ...       ...   \n",
       "173   0.491955    2.026281  1.798775    1.648436  0.858284 -0.503494   \n",
       "174   0.331822    1.739837 -0.388260    0.151234  1.418411 -1.126646   \n",
       "175   0.208643    0.227053  0.012696    0.151234  1.418411 -1.030776   \n",
       "176   1.391162    1.578712  1.361368    1.498716 -0.261969 -0.391646   \n",
       "177  -0.924604   -0.542765 -0.898568   -0.148206 -1.382223 -1.030776   \n",
       "\n",
       "     Flavanoids  Phenols.1  Proantho-cyanins  Color intensity       Hue  \\\n",
       "0      1.031908  -0.657708          1.221438         0.251009  0.361158   \n",
       "1      0.661485   0.226158          0.400275        -0.318377  0.361158   \n",
       "2      0.951817  -0.577356          0.679820         0.061213  0.536158   \n",
       "3      0.401188  -0.818411         -0.036514        -0.025057  0.929908   \n",
       "4      0.731565  -0.577356          0.382804         0.233755  0.842408   \n",
       "..          ...        ...               ...              ...       ...   \n",
       "173   -1.070491  -0.738059         -0.840205         1.484679 -1.257591   \n",
       "174   -1.340800   0.547563         -0.420888         2.217979 -1.607590   \n",
       "175   -1.350811   1.351077         -0.228701         1.829761 -1.563840   \n",
       "176   -1.270720   1.592131         -0.420888         1.786626 -1.520090   \n",
       "177    0.000731   0.065455          0.068316        -0.715222  0.186159   \n",
       "\n",
       "     OD280 315   Proline  Start assignment  \n",
       "0     1.842721  1.010159         -1.240406  \n",
       "1     0.448336 -0.037767         -1.240406  \n",
       "2     0.335659  0.946649         -1.240406  \n",
       "3     0.293405  1.692900         -1.240406  \n",
       "4     0.406082  1.819921         -1.240406  \n",
       "..         ...       ...               ...  \n",
       "173  -0.974218 -0.371199          1.199288  \n",
       "174  -1.481267  0.279786          1.199288  \n",
       "175  -1.396759  0.295664          1.199288  \n",
       "176  -1.424928 -0.593486          1.199288  \n",
       "177   0.786369 -0.752263          1.199288  \n",
       "\n",
       "[178 rows x 14 columns]"
      ]
     },
     "execution_count": 12,
     "metadata": {},
     "output_type": "execute_result"
    }
   ],
   "source": [
    "# calculate the mean of each column \n",
    "mean = df.mean(axis=0)\n",
    "# calculate the standard deviation of each column\n",
    "std = df.std(axis=0)\n",
    "# subtract the mean and divide by the standard deviation\n",
    "df_mean = (df - mean) / std\n",
    "df_mean"
   ]
  },
  {
   "cell_type": "markdown",
   "id": "57136a2c",
   "metadata": {},
   "source": [
    "##### b) Given the initial categorization of the 178 wines into the 3 clusters according to Start assignment column in the dataset, determine the centroid of each of the three clusters. The centroid for this problem is a 13-D vector where each entry is the mean of a variable for the observations in that cluster."
   ]
  },
  {
   "cell_type": "code",
   "execution_count": 13,
   "id": "4b24867f",
   "metadata": {},
   "outputs": [],
   "source": [
    "center = df_mean.mean()"
   ]
  },
  {
   "cell_type": "markdown",
   "id": "e441587f",
   "metadata": {},
   "source": [
    "##### c) Given the centroid, determine the value of the cost function for this initial categorization. Check against the debugging output. "
   ]
  },
  {
   "cell_type": "code",
   "execution_count": 14,
   "id": "c32aad13",
   "metadata": {},
   "outputs": [
    {
     "data": {
      "text/plain": [
       "2477.9999999999995"
      ]
     },
     "execution_count": 14,
     "metadata": {},
     "output_type": "execute_result"
    }
   ],
   "source": [
    "def cost(centers, feats, ranks):\n",
    "    \"\"\" Cost function for clustering\n",
    "    centers: np.array shape (3,13). Fixed centers\n",
    "    feats: pd.DataFrame. Normalized chemical descriptors\n",
    "    ranks: np.array shape(178,). Assignment.\n",
    "    \"\"\"\n",
    "    cost = 0\n",
    "    for i in range(len(ranks)):\n",
    "        cost += LA.norm(feats.iloc[i] - centers[int(ranks[i])]) ** 2\n",
    "    return cost\n",
    "\n",
    "cost(center, df_mean, rank)"
   ]
  },
  {
   "cell_type": "markdown",
   "id": "3e766a0a",
   "metadata": {},
   "source": [
    "##### d) Fill in the blanks in the provided simulated annealing code. Use CSA with a visitation function in which a randomly chosen wine 𝑖 is moved from its present cluster 𝑗 to another randomly chosen cluster 𝑘 ≠𝑗. One epoch corresponds to attempting to move all 𝑁 wines between clusters, i.e. there are 𝑁 Metropolis steps, at each temperature. Use a start temperature of 500, and use a geometric cooling schedule(Tt+1=αTt)  with  α=0.999  and  total  of  5000  steps,  again  using  at  least  3  runs  of  CSA.  Check  your  final  temperature against  debugging  output.  Report  all  3  solutions  and  the  wine  members  as  part  of  each  cluster.  Validate your result using the provided code. How well is the assignment?\n",
    "\n",
    "##### I was not able to complete this question as my computer is really slow and was not able to analyze this data. I tried running it for a long amount of time but it did not yield any result beyond the first output. "
   ]
  },
  {
   "cell_type": "code",
   "execution_count": 15,
   "id": "a86879d3",
   "metadata": {},
   "outputs": [],
   "source": [
    "def simulated_annealing(feats,ranks,centers,start_temp,alpha,steps=10000):\n",
    "    \"\"\" Simulated Annealing for clustering\n",
    "    feats: pd.DataFrame. Normalized chemical descriptors\n",
    "    ranks: np.array shape(178,). Initial assignment.\n",
    "    centers: np.array shape (3,13). Fixed centers\n",
    "    start_temp: float. Initial tempreture\n",
    "    alpha: float. Hyperparameter for geometric cooling\n",
    "    steps: int. \n",
    "    \"\"\"\n",
    "    best_rank=ranks.copy()\n",
    "    # evaluate the cost function with current best rank\n",
    "    lowest_eval=cost(centers,feats,best_rank)\n",
    "    for step in (range(steps)):\n",
    "        # update tempture according to geometric cooling schedule\n",
    "        temp=start_temp*alpha**step\n",
    "        if step%500==0:\n",
    "            print(step,temp,lowest_eval)\n",
    "        for n in range(len(ranks)):\n",
    "            trial=ranks.copy()\n",
    "            rand_choice=np.random.randint(3)+1\n",
    "            trial[n]=rand_choice\n",
    "            # Metropolis acceptance criterion\n",
    "            if np.exp(-(cost(centers, feats, trial) - cost(centers, feats, ranks)) / start_temp) > np.random.random():\n",
    "                ranks=trial\n",
    "                # update evaluation\n",
    "                new_eval=cost(centers,feats,ranks)\n",
    "                if new_eval<lowest_eval:\n",
    "                    #update best rank and lowest_eval\n",
    "                    best_rank=ranks.copy()\n",
    "                    lowest_eval=new_eval\n",
    "    return {\"solution\":best_rank,\"evaluation\":lowest_eval}"
   ]
  },
  {
   "cell_type": "markdown",
   "id": "433ce438",
   "metadata": {},
   "source": [
    "##### e) Adapt  your  code  in  2(d).  Now  use  CSA  with  a  visitation  function  in  which  a  randomly  chosen centroid 𝑗 is updated as a random walk for each of its 13 components  𝑥𝑖 =𝑥𝑖 +(2∗𝑈𝑅𝑁−1)×∆; with ∆=0.01 In this case one epoch corresponds to moving all 𝐾 =3 cluster centers at each temperature, reassigning all wines to their nearest centroid, and evaluating the new cost function. Check against the debugging output to make sure you are assigning wines correctly. Use a start temperature of 500, and use a geometric cooling schedule with α=0.999 and total of 5000 steps, again using at least 3 runs of CSA. Report all 3 solutions and the wine members as part of each cluster. Is this a better solution than found in (d)?  \n",
    " \n",
    "\n",
    "##### I was not able to complete this question as my computer is really slow and was not able to analyze this data. I tried running it for a long amount of time but it did not yield any result beyond the first output. See above. "
   ]
  },
  {
   "cell_type": "code",
   "execution_count": 16,
   "id": "bedd231d",
   "metadata": {},
   "outputs": [],
   "source": [
    "def simulated_annealing_b(feats,ranks,centers,start_temp,alpha,steps=10000):\n",
    "    \"\"\" Simulated Annealing for clustering\n",
    "    feats: pd.DataFrame. Normalized chemical descriptors\n",
    "    ranks: np.array shape(178,). Initial assignment.\n",
    "    centers: np.array shape (3,13). Fixed centers\n",
    "    start_temp: float. Initial tempreture\n",
    "    alpha: float. Hyperparameter for geometric cooling\n",
    "    steps: int. \n",
    "    \"\"\"\n",
    "    best_rank=ranks.copy()\n",
    "    # evaluate the cost function with current best rank\n",
    "    lowest_eval=cost(centers,feats,best_rank)\n",
    "    for step in (range(steps)):\n",
    "        # update tempture according to geometric cooling schedule\n",
    "        temp=start_temp*alpha**step\n",
    "        if step%500==0:\n",
    "            print(step,temp,lowest_eval)\n",
    "        for n in range(len(ranks)):\n",
    "            trial=ranks.copy()\n",
    "            rand_choice=np.random.randint(3)+1\n",
    "            trial[n]+= (2 * rand_choice - 1) * delta\n",
    "            # Metropolis acceptance criterion\n",
    "            if np.exp(-(cost(centers, feats, trial) - cost(centers, feats, ranks)) / start_temp) > np.random.random():\n",
    "                ranks=trial\n",
    "                # update evaluation\n",
    "                new_eval=cost(centers,feats,ranks)\n",
    "                if new_eval<lowest_eval:\n",
    "                    #update best rank and lowest_eval\n",
    "                    best_rank=ranks.copy()\n",
    "                    lowest_eval=new_eval\n",
    "    return {\"solution\":best_rank,\"evaluation\":lowest_eval}"
   ]
  },
  {
   "cell_type": "code",
   "execution_count": null,
   "id": "ce32f449",
   "metadata": {},
   "outputs": [],
   "source": []
  }
 ],
 "metadata": {
  "kernelspec": {
   "display_name": "Python 3 (ipykernel)",
   "language": "python",
   "name": "python3"
  },
  "language_info": {
   "codemirror_mode": {
    "name": "ipython",
    "version": 3
   },
   "file_extension": ".py",
   "mimetype": "text/x-python",
   "name": "python",
   "nbconvert_exporter": "python",
   "pygments_lexer": "ipython3",
   "version": "3.10.10"
  }
 },
 "nbformat": 4,
 "nbformat_minor": 5
}
